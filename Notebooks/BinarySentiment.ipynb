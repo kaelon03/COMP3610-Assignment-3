{
 "cells": [
  {
   "cell_type": "code",
   "execution_count": null,
   "metadata": {
    "colab": {
     "base_uri": "https://localhost:8080/"
    },
    "collapsed": true,
    "id": "oB0yOM_TL1BX",
    "jupyter": {
     "outputs_hidden": true
    },
    "outputId": "0917de18-78e0-44f7-e609-a4a41e7808aa"
   },
   "outputs": [
    {
     "name": "stdout",
     "output_type": "stream",
     "text": [
      "Requirement already satisfied: datasets in /usr/local/lib/python3.11/dist-packages (3.5.0)\n",
      "Requirement already satisfied: duckdb in /usr/local/lib/python3.11/dist-packages (1.2.2)\n",
      "Requirement already satisfied: pyarrow in /usr/local/lib/python3.11/dist-packages (18.1.0)\n",
      "Requirement already satisfied: filelock in /usr/local/lib/python3.11/dist-packages (from datasets) (3.18.0)\n",
      "Requirement already satisfied: numpy>=1.17 in /usr/local/lib/python3.11/dist-packages (from datasets) (2.0.2)\n",
      "Requirement already satisfied: dill<0.3.9,>=0.3.0 in /usr/local/lib/python3.11/dist-packages (from datasets) (0.3.8)\n",
      "Requirement already satisfied: pandas in /usr/local/lib/python3.11/dist-packages (from datasets) (2.2.2)\n",
      "Requirement already satisfied: requests>=2.32.2 in /usr/local/lib/python3.11/dist-packages (from datasets) (2.32.3)\n",
      "Requirement already satisfied: tqdm>=4.66.3 in /usr/local/lib/python3.11/dist-packages (from datasets) (4.67.1)\n",
      "Requirement already satisfied: xxhash in /usr/local/lib/python3.11/dist-packages (from datasets) (3.5.0)\n",
      "Requirement already satisfied: multiprocess<0.70.17 in /usr/local/lib/python3.11/dist-packages (from datasets) (0.70.16)\n",
      "Requirement already satisfied: fsspec<=2024.12.0,>=2023.1.0 in /usr/local/lib/python3.11/dist-packages (from fsspec[http]<=2024.12.0,>=2023.1.0->datasets) (2024.12.0)\n",
      "Requirement already satisfied: aiohttp in /usr/local/lib/python3.11/dist-packages (from datasets) (3.11.15)\n",
      "Requirement already satisfied: huggingface-hub>=0.24.0 in /usr/local/lib/python3.11/dist-packages (from datasets) (0.30.2)\n",
      "Requirement already satisfied: packaging in /usr/local/lib/python3.11/dist-packages (from datasets) (24.2)\n",
      "Requirement already satisfied: pyyaml>=5.1 in /usr/local/lib/python3.11/dist-packages (from datasets) (6.0.2)\n",
      "Requirement already satisfied: aiohappyeyeballs>=2.3.0 in /usr/local/lib/python3.11/dist-packages (from aiohttp->datasets) (2.6.1)\n",
      "Requirement already satisfied: aiosignal>=1.1.2 in /usr/local/lib/python3.11/dist-packages (from aiohttp->datasets) (1.3.2)\n",
      "Requirement already satisfied: attrs>=17.3.0 in /usr/local/lib/python3.11/dist-packages (from aiohttp->datasets) (25.3.0)\n",
      "Requirement already satisfied: frozenlist>=1.1.1 in /usr/local/lib/python3.11/dist-packages (from aiohttp->datasets) (1.6.0)\n",
      "Requirement already satisfied: multidict<7.0,>=4.5 in /usr/local/lib/python3.11/dist-packages (from aiohttp->datasets) (6.4.3)\n",
      "Requirement already satisfied: propcache>=0.2.0 in /usr/local/lib/python3.11/dist-packages (from aiohttp->datasets) (0.3.1)\n",
      "Requirement already satisfied: yarl<2.0,>=1.17.0 in /usr/local/lib/python3.11/dist-packages (from aiohttp->datasets) (1.20.0)\n",
      "Requirement already satisfied: typing-extensions>=3.7.4.3 in /usr/local/lib/python3.11/dist-packages (from huggingface-hub>=0.24.0->datasets) (4.13.2)\n",
      "Requirement already satisfied: charset-normalizer<4,>=2 in /usr/local/lib/python3.11/dist-packages (from requests>=2.32.2->datasets) (3.4.1)\n",
      "Requirement already satisfied: idna<4,>=2.5 in /usr/local/lib/python3.11/dist-packages (from requests>=2.32.2->datasets) (3.10)\n",
      "Requirement already satisfied: urllib3<3,>=1.21.1 in /usr/local/lib/python3.11/dist-packages (from requests>=2.32.2->datasets) (2.3.0)\n",
      "Requirement already satisfied: certifi>=2017.4.17 in /usr/local/lib/python3.11/dist-packages (from requests>=2.32.2->datasets) (2025.1.31)\n",
      "Requirement already satisfied: python-dateutil>=2.8.2 in /usr/local/lib/python3.11/dist-packages (from pandas->datasets) (2.8.2)\n",
      "Requirement already satisfied: pytz>=2020.1 in /usr/local/lib/python3.11/dist-packages (from pandas->datasets) (2025.2)\n",
      "Requirement already satisfied: tzdata>=2022.7 in /usr/local/lib/python3.11/dist-packages (from pandas->datasets) (2025.2)\n",
      "Requirement already satisfied: six>=1.5 in /usr/local/lib/python3.11/dist-packages (from python-dateutil>=2.8.2->pandas->datasets) (1.17.0)\n",
      "Drive already mounted at /content/drive; to attempt to forcibly remount, call drive.mount(\"/content/drive\", force_remount=True).\n"
     ]
    }
   ],
   "source": [
    "!pip install datasets duckdb pyarrow\n",
    "from google.colab import drive\n",
    "drive.mount('/content/drive')\n",
    "\n",
    "shared_folder = '/content/drive/My Drive/unified_dataset'"
   ]
  },
  {
   "cell_type": "markdown",
   "metadata": {},
   "source": [
    "# Binary Sentiment Predictor for Product Ratings\n",
    "\n",
    "## Overview\n",
    "A scalable sentiment classifier trained incrementally on Amazon review text data. Predicts binary sentiment (negative/positive) based on star ratings (≤3 = negative, >3 = positive).\n",
    "\n",
    "## Workflow\n",
    "1. Load Data in Chunks --> 2\n",
    "2. Label Conversion --> 3\n",
    "3. Train/Test Split --> 4\n",
    "4. TF-IDF Vectorization] --> 5\n",
    "5. Incremental SGD Training --> 6\n",
    "6. Batch Evaluation --> 7\n",
    "7. Aggregate Metrics?\n",
    "    * Yes --> 8\n",
    "    * No --> 1\n",
    "8. Final Evaluation\n",
    "\n",
    "## Components\n",
    "1. Prerocessing\n",
    "   * TFid Vectorization used\n",
    "   * Terms in less than 5 docs or more thn 80% of dcuments are ignored\n",
    "3. Model\n",
    "   * Logistic regrssion Used for classification\n",
    "5. Evaluation Metrics\n",
    "   * accuracy\n",
    "   * f1 score\n",
    "   * confusion matrix"
   ]
  },
  {
   "cell_type": "code",
   "execution_count": 2,
   "metadata": {
    "colab": {
     "base_uri": "https://localhost:8080/",
     "height": 1000,
     "referenced_widgets": [
      "20703a7a919449aa8d3d596d9390e296",
      "1652ee84d1044c0784cf6186a07df84a",
      "39982a4f6f424f5bb5f8fdf15fc2a02c",
      "134dca6e639e4bbe92003e2b0303e9d9",
      "fdb4f10a04fb4205a56b2143f3df6931",
      "ef4f04cd1cd74dfcb69bedf9f583490b",
      "858eeaff66764b61aa4659bee5d713fc",
      "bee5416f9f46447fb8b2943410c571b3",
      "81e38d89628641a3b5073443e54286fe",
      "c928ea6f51544279b72fb98bcf71072c",
      "385239091962453e863c5a0e94cbb8b8",
      "a9f8147e54394e8380f23a9eb2b94f5b",
      "d002320de38e485daed58e3ffda42f55",
      "effa246fb3d34ef894c486595d0bb705",
      "cc38585d541d4434999ddb1103a7742a",
      "bba8df79fd134589b4307ca2cbffcc74",
      "94518353cfea42919d962944af717be1",
      "e643c897408949ed868bdbd326052b97",
      "f8054f54db1e4a6e92dff8ec6ac55935",
      "7e59e800089541b4b4bcbaed9f4be07d",
      "ac013ed0c6df4649b9e04c2f3f0022d3",
      "b8882845cb0547428f65f67829de00f8",
      "8c5784bd91094a8dbc2c7415d7085365",
      "1d8fd8069b78439697498ee8af7cdc5b",
      "672bc81ae55f462fbefcc88fd1bad2cf",
      "73526b8f8ebc4bc09dd4259093022923",
      "8556605d420243e5bc524983ec5de9f5",
      "9e113c1437e047a58f05353d0933616b",
      "9240f2c6f788466c848a66c890ed7288",
      "3aa60b6e5f7e4e3598f4dac7168764b1",
      "f9c3a1f4d43c405a8daa52b210230a6e",
      "5ebf4070a0be414684cfd681d84a0316",
      "a490af964d904713b2e2a56fc2b950c9",
      "8ef6840ad7ce4136b22f4c85cb44ef80",
      "59ab5ebd64da41c3ac7c0af9a3db114e",
      "7ec7e77e970f42cebdcce7e3e79eb1fe",
      "9c463bf3147043e58cff4ea3c6658309",
      "d9cb3d86bd0146a785b62dea26a4da20",
      "000ff11f625444c0a959df9cc8ade222",
      "7ec929dd895c4431863f7b08fd914424",
      "b894df1e68274197be13c3ad4bbbeed7",
      "10ead059a3f345bebf436167ebfa214d",
      "caf6afc1ddde4a6bab9e3febdc067ea7",
      "a606d7c14d82454a9480790453676d03",
      "ac80bb2d85ad40a1959fa2e08c17e329",
      "14f8c5f889fa45498ca3427f1b75da52",
      "2e5e82f1d52948dba9299506ed150e5d",
      "3bdbb17315e54b2f86e231b9025185ff",
      "82aeebe3bf3c4829a25cea91866219a1",
      "8fa42cc9d60442b884bee78c49080227",
      "da1dfe3b87e844feb0f79e0f10db7aa0",
      "66672b28e6b549348d8cf7bd15e8b377",
      "d518f941a7c646509674e2918ca92c08",
      "6206222bb6104cf1b1e4dc92294fd529",
      "2a09cf6a7adb49eda97e9a35f152e4be",
      "3d2b0a51b70d464d827aacaf268efea4",
      "84e14a3980fe4b93b7216d58a8b0c500",
      "5e98955352ad4e82854cc51e1b74bca2",
      "08c087325aec47f9a40a0f457957dcd3",
      "4197290a2fe54e17bcb79bd02e9c3483",
      "70c6da45761f4d23a581b53f214eddad",
      "4522c72d32a3457a884ccfe0b62d9597",
      "45db15068136443fa89f8fb68e26fbb0",
      "4f81d54ec34b46cea471c0e15660f2bb",
      "aaccce2a6da1457b84660bb9c2a5a02d",
      "b239679e91864af194c7d4bb4ab9371b"
     ]
    },
    "id": "L0NGUf7YMWcu",
    "outputId": "87511715-7850-4ee4-c9ba-618b8fc9e262"
   },
   "outputs": [
    {
     "data": {
      "application/vnd.jupyter.widget-view+json": {
       "model_id": "20703a7a919449aa8d3d596d9390e296",
       "version_major": 2,
       "version_minor": 0
      },
      "text/plain": [
       "FloatProgress(value=0.0, layout=Layout(width='auto'), style=ProgressStyle(bar_color='black'))"
      ]
     },
     "metadata": {},
     "output_type": "display_data"
    },
    {
     "name": "stdout",
     "output_type": "stream",
     "text": [
      " Chunk 1 — Accuracy: 0.8749, F1: 0.9234\n",
      "[[ 605004  509874]\n",
      " [ 115616 3769506]] \n",
      "\n"
     ]
    },
    {
     "data": {
      "application/vnd.jupyter.widget-view+json": {
       "model_id": "134dca6e639e4bbe92003e2b0303e9d9",
       "version_major": 2,
       "version_minor": 0
      },
      "text/plain": [
       "FloatProgress(value=0.0, layout=Layout(width='auto'), style=ProgressStyle(bar_color='black'))"
      ]
     },
     "metadata": {},
     "output_type": "display_data"
    },
    {
     "name": "stdout",
     "output_type": "stream",
     "text": [
      " Chunk 2 — Accuracy: 0.8662, F1: 0.9179\n",
      "[[ 588877  553370]\n",
      " [ 115646 3742107]] \n",
      "\n"
     ]
    },
    {
     "data": {
      "application/vnd.jupyter.widget-view+json": {
       "model_id": "858eeaff66764b61aa4659bee5d713fc",
       "version_major": 2,
       "version_minor": 0
      },
      "text/plain": [
       "FloatProgress(value=0.0, layout=Layout(width='auto'), style=ProgressStyle(bar_color='black'))"
      ]
     },
     "metadata": {},
     "output_type": "display_data"
    },
    {
     "name": "stdout",
     "output_type": "stream",
     "text": [
      " Chunk 3 — Accuracy: 0.8624, F1: 0.9192\n",
      "[[ 399232  604223]\n",
      " [  83922 3912623]] \n",
      "\n"
     ]
    },
    {
     "data": {
      "application/vnd.jupyter.widget-view+json": {
       "model_id": "c928ea6f51544279b72fb98bcf71072c",
       "version_major": 2,
       "version_minor": 0
      },
      "text/plain": [
       "FloatProgress(value=0.0, layout=Layout(width='auto'), style=ProgressStyle(bar_color='black'))"
      ]
     },
     "metadata": {},
     "output_type": "display_data"
    },
    {
     "name": "stdout",
     "output_type": "stream",
     "text": [
      " Chunk 4 — Accuracy: 0.8713, F1: 0.9282\n",
      "[[ 196375  598626]\n",
      " [  44700 4160299]] \n",
      "\n"
     ]
    },
    {
     "data": {
      "application/vnd.jupyter.widget-view+json": {
       "model_id": "d002320de38e485daed58e3ffda42f55",
       "version_major": 2,
       "version_minor": 0
      },
      "text/plain": [
       "FloatProgress(value=0.0, layout=Layout(width='auto'), style=ProgressStyle(bar_color='black'))"
      ]
     },
     "metadata": {},
     "output_type": "display_data"
    },
    {
     "name": "stdout",
     "output_type": "stream",
     "text": [
      " Chunk 5 — Accuracy: 0.8601, F1: 0.9107\n",
      "[[ 732864  549965]\n",
      " [ 149518 3567653]] \n",
      "\n"
     ]
    },
    {
     "data": {
      "application/vnd.jupyter.widget-view+json": {
       "model_id": "bba8df79fd134589b4307ca2cbffcc74",
       "version_major": 2,
       "version_minor": 0
      },
      "text/plain": [
       "FloatProgress(value=0.0, layout=Layout(width='auto'), style=ProgressStyle(bar_color='black'))"
      ]
     },
     "metadata": {},
     "output_type": "display_data"
    },
    {
     "name": "stdout",
     "output_type": "stream",
     "text": [
      " Chunk 6 — Accuracy: 0.8669, F1: 0.9183\n",
      "[[ 595796  534926]\n",
      " [ 130374 3738904]] \n",
      "\n"
     ]
    },
    {
     "data": {
      "application/vnd.jupyter.widget-view+json": {
       "model_id": "f8054f54db1e4a6e92dff8ec6ac55935",
       "version_major": 2,
       "version_minor": 0
      },
      "text/plain": [
       "FloatProgress(value=0.0, layout=Layout(width='auto'), style=ProgressStyle(bar_color='black'))"
      ]
     },
     "metadata": {},
     "output_type": "display_data"
    },
    {
     "name": "stdout",
     "output_type": "stream",
     "text": [
      " Chunk 7 — Accuracy: 0.8700, F1: 0.9200\n",
      "[[ 610819  521051]\n",
      " [ 129160 3738970]] \n",
      "\n"
     ]
    },
    {
     "data": {
      "application/vnd.jupyter.widget-view+json": {
       "model_id": "b8882845cb0547428f65f67829de00f8",
       "version_major": 2,
       "version_minor": 0
      },
      "text/plain": [
       "FloatProgress(value=0.0, layout=Layout(width='auto'), style=ProgressStyle(bar_color='black'))"
      ]
     },
     "metadata": {},
     "output_type": "display_data"
    },
    {
     "name": "stdout",
     "output_type": "stream",
     "text": [
      " Chunk 8 — Accuracy: 0.8631, F1: 0.9156\n",
      "[[ 599698  572348]\n",
      " [ 112242 3715712]] \n",
      "\n"
     ]
    },
    {
     "data": {
      "application/vnd.jupyter.widget-view+json": {
       "model_id": "672bc81ae55f462fbefcc88fd1bad2cf",
       "version_major": 2,
       "version_minor": 0
      },
      "text/plain": [
       "FloatProgress(value=0.0, layout=Layout(width='auto'), style=ProgressStyle(bar_color='black'))"
      ]
     },
     "metadata": {},
     "output_type": "display_data"
    },
    {
     "name": "stdout",
     "output_type": "stream",
     "text": [
      " Chunk 9 — Accuracy: 0.8650, F1: 0.9163\n",
      "[[ 630472  564974]\n",
      " [ 110123 3694431]] \n",
      "\n"
     ]
    },
    {
     "data": {
      "application/vnd.jupyter.widget-view+json": {
       "model_id": "9e113c1437e047a58f05353d0933616b",
       "version_major": 2,
       "version_minor": 0
      },
      "text/plain": [
       "FloatProgress(value=0.0, layout=Layout(width='auto'), style=ProgressStyle(bar_color='black'))"
      ]
     },
     "metadata": {},
     "output_type": "display_data"
    },
    {
     "name": "stdout",
     "output_type": "stream",
     "text": [
      " Chunk 10 — Accuracy: 0.8578, F1: 0.9135\n",
      "[[ 535143  608085]\n",
      " [ 103105 3753667]] \n",
      "\n"
     ]
    },
    {
     "data": {
      "application/vnd.jupyter.widget-view+json": {
       "model_id": "f9c3a1f4d43c405a8daa52b210230a6e",
       "version_major": 2,
       "version_minor": 0
      },
      "text/plain": [
       "FloatProgress(value=0.0, layout=Layout(width='auto'), style=ProgressStyle(bar_color='black'))"
      ]
     },
     "metadata": {},
     "output_type": "display_data"
    },
    {
     "name": "stdout",
     "output_type": "stream",
     "text": [
      " Chunk 11 — Accuracy: 0.8662, F1: 0.9190\n",
      "[[ 534038  568131]\n",
      " [ 100985 3796846]] \n",
      "\n"
     ]
    },
    {
     "data": {
      "application/vnd.jupyter.widget-view+json": {
       "model_id": "8ef6840ad7ce4136b22f4c85cb44ef80",
       "version_major": 2,
       "version_minor": 0
      },
      "text/plain": [
       "FloatProgress(value=0.0, layout=Layout(width='auto'), style=ProgressStyle(bar_color='black'))"
      ]
     },
     "metadata": {},
     "output_type": "display_data"
    },
    {
     "name": "stdout",
     "output_type": "stream",
     "text": [
      " Chunk 12 — Accuracy: 0.8761, F1: 0.9240\n",
      "[[ 617325  506295]\n",
      " [ 113184 3763196]] \n",
      "\n"
     ]
    },
    {
     "data": {
      "application/vnd.jupyter.widget-view+json": {
       "model_id": "9c463bf3147043e58cff4ea3c6658309",
       "version_major": 2,
       "version_minor": 0
      },
      "text/plain": [
       "FloatProgress(value=0.0, layout=Layout(width='auto'), style=ProgressStyle(bar_color='black'))"
      ]
     },
     "metadata": {},
     "output_type": "display_data"
    },
    {
     "name": "stdout",
     "output_type": "stream",
     "text": [
      " Chunk 13 — Accuracy: 0.8771, F1: 0.9245\n",
      "[[ 621946  502265]\n",
      " [ 112287 3763502]] \n",
      "\n"
     ]
    },
    {
     "data": {
      "application/vnd.jupyter.widget-view+json": {
       "model_id": "7ec929dd895c4431863f7b08fd914424",
       "version_major": 2,
       "version_minor": 0
      },
      "text/plain": [
       "FloatProgress(value=0.0, layout=Layout(width='auto'), style=ProgressStyle(bar_color='black'))"
      ]
     },
     "metadata": {},
     "output_type": "display_data"
    },
    {
     "name": "stdout",
     "output_type": "stream",
     "text": [
      " Chunk 14 — Accuracy: 0.8718, F1: 0.9260\n",
      "[[ 349676  577358]\n",
      " [  63846 4009120]] \n",
      "\n"
     ]
    },
    {
     "data": {
      "application/vnd.jupyter.widget-view+json": {
       "model_id": "caf6afc1ddde4a6bab9e3febdc067ea7",
       "version_major": 2,
       "version_minor": 0
      },
      "text/plain": [
       "FloatProgress(value=0.0, layout=Layout(width='auto'), style=ProgressStyle(bar_color='black'))"
      ]
     },
     "metadata": {},
     "output_type": "display_data"
    },
    {
     "name": "stdout",
     "output_type": "stream",
     "text": [
      " Chunk 15 — Accuracy: 0.8651, F1: 0.9248\n",
      "[[ 176673  635321]\n",
      " [  39399 4148607]] \n",
      "\n"
     ]
    },
    {
     "data": {
      "application/vnd.jupyter.widget-view+json": {
       "model_id": "14f8c5f889fa45498ca3427f1b75da52",
       "version_major": 2,
       "version_minor": 0
      },
      "text/plain": [
       "FloatProgress(value=0.0, layout=Layout(width='auto'), style=ProgressStyle(bar_color='black'))"
      ]
     },
     "metadata": {},
     "output_type": "display_data"
    },
    {
     "name": "stdout",
     "output_type": "stream",
     "text": [
      " Chunk 16 — Accuracy: 0.8653, F1: 0.9195\n",
      "[[ 480336  577580]\n",
      " [  96025 3846059]] \n",
      "\n"
     ]
    },
    {
     "data": {
      "application/vnd.jupyter.widget-view+json": {
       "model_id": "82aeebe3bf3c4829a25cea91866219a1",
       "version_major": 2,
       "version_minor": 0
      },
      "text/plain": [
       "FloatProgress(value=0.0, layout=Layout(width='auto'), style=ProgressStyle(bar_color='black'))"
      ]
     },
     "metadata": {},
     "output_type": "display_data"
    },
    {
     "name": "stdout",
     "output_type": "stream",
     "text": [
      " Chunk 17 — Accuracy: 0.8513, F1: 0.9064\n",
      "[[ 653432  616048]\n",
      " [ 127697 3602823]] \n",
      "\n"
     ]
    },
    {
     "data": {
      "application/vnd.jupyter.widget-view+json": {
       "model_id": "66672b28e6b549348d8cf7bd15e8b377",
       "version_major": 2,
       "version_minor": 0
      },
      "text/plain": [
       "FloatProgress(value=0.0, layout=Layout(width='auto'), style=ProgressStyle(bar_color='black'))"
      ]
     },
     "metadata": {},
     "output_type": "display_data"
    },
    {
     "name": "stdout",
     "output_type": "stream",
     "text": [
      " Chunk 18 — Accuracy: 0.8544, F1: 0.9111\n",
      "[[ 539027  617094]\n",
      " [ 110946 3732933]] \n",
      "\n"
     ]
    },
    {
     "data": {
      "application/vnd.jupyter.widget-view+json": {
       "model_id": "2a09cf6a7adb49eda97e9a35f152e4be",
       "version_major": 2,
       "version_minor": 0
      },
      "text/plain": [
       "FloatProgress(value=0.0, layout=Layout(width='auto'), style=ProgressStyle(bar_color='black'))"
      ]
     },
     "metadata": {},
     "output_type": "display_data"
    },
    {
     "name": "stdout",
     "output_type": "stream",
     "text": [
      " Chunk 19 — Accuracy: 0.8700, F1: 0.9210\n",
      "[[ 562760  546034]\n",
      " [ 104099 3787107]] \n",
      "\n"
     ]
    },
    {
     "data": {
      "application/vnd.jupyter.widget-view+json": {
       "model_id": "5e98955352ad4e82854cc51e1b74bca2",
       "version_major": 2,
       "version_minor": 0
      },
      "text/plain": [
       "FloatProgress(value=0.0, layout=Layout(width='auto'), style=ProgressStyle(bar_color='black'))"
      ]
     },
     "metadata": {},
     "output_type": "display_data"
    },
    {
     "name": "stdout",
     "output_type": "stream",
     "text": [
      " Chunk 20 — Accuracy: 0.8756, F1: 0.9240\n",
      "[[ 595319  514558]\n",
      " [ 107357 3782766]] \n",
      "\n"
     ]
    },
    {
     "data": {
      "application/vnd.jupyter.widget-view+json": {
       "model_id": "70c6da45761f4d23a581b53f214eddad",
       "version_major": 2,
       "version_minor": 0
      },
      "text/plain": [
       "FloatProgress(value=0.0, layout=Layout(width='auto'), style=ProgressStyle(bar_color='black'))"
      ]
     },
     "metadata": {},
     "output_type": "display_data"
    },
    {
     "name": "stdout",
     "output_type": "stream",
     "text": [
      " Chunk 21 — Accuracy: 0.8423, F1: 0.9014\n",
      "[[ 72367  80097]\n",
      " [ 14074 430452]] \n",
      "\n"
     ]
    },
    {
     "data": {
      "application/vnd.jupyter.widget-view+json": {
       "model_id": "4f81d54ec34b46cea471c0e15660f2bb",
       "version_major": 2,
       "version_minor": 0
      },
      "text/plain": [
       "FloatProgress(value=0.0, layout=Layout(width='auto'), style=ProgressStyle(bar_color='black'))"
      ]
     },
     "metadata": {},
     "output_type": "display_data"
    }
   ],
   "source": [
    "import duckdb\n",
    "import pandas as pd\n",
    "from sklearn.feature_extraction.text import TfidfVectorizer\n",
    "from sklearn.linear_model import SGDClassifier\n",
    "from sklearn.model_selection import train_test_split\n",
    "from sklearn.metrics import accuracy_score, f1_score, confusion_matrix, classification_report\n",
    "\n",
    "DATASET_PATH = \"/content/drive/My Drive/unified_dataset/**/*.parquet\"\n",
    "CHUNK_SIZE = 25000000\n",
    "\n",
    "vectorizer = TfidfVectorizer(\n",
    "    lowercase=True,\n",
    "    token_pattern=r'\\b\\w+\\b',\n",
    "    min_df=5,\n",
    "    max_df=0.8\n",
    ")\n",
    "model = SGDClassifier(loss='log_loss', random_state=42)\n",
    "classes = [0, 1]\n",
    "\n",
    "offset = 0\n",
    "batch_num = 1\n",
    "con = duckdb.connect()\n",
    "\n",
    "all_preds = []\n",
    "all_truths = []\n",
    "\n",
    "while True:\n",
    "    query = f\"\"\"\n",
    "        SELECT text, rating\n",
    "        FROM read_parquet('{DATASET_PATH}')\n",
    "        WHERE rating BETWEEN 1 AND 5\n",
    "          AND text IS NOT NULL\n",
    "          AND LENGTH(TRIM(text)) > 0\n",
    "        LIMIT {CHUNK_SIZE} OFFSET {offset}\n",
    "    \"\"\"\n",
    "    df = con.execute(query).fetch_df()\n",
    "    if df.empty:\n",
    "        break\n",
    "\n",
    "    df[\"label\"] = (df[\"rating\"] > 3).astype(int)\n",
    "\n",
    "    X_train, X_test, y_train, y_test = train_test_split(\n",
    "        df[\"text\"], df[\"label\"], test_size=0.2, random_state=42\n",
    "    )\n",
    "\n",
    "    if batch_num == 1:\n",
    "        X_train_vec = vectorizer.fit_transform(X_train)\n",
    "        model.partial_fit(X_train_vec, y_train, classes=classes)\n",
    "    else:\n",
    "        X_train_vec = vectorizer.transform(X_train)\n",
    "        model.partial_fit(X_train_vec, y_train)\n",
    "\n",
    "    X_test_vec = vectorizer.transform(X_test)\n",
    "    y_pred = model.predict(X_test_vec)\n",
    "\n",
    "    all_preds.extend(y_pred)\n",
    "    all_truths.extend(y_test)\n",
    "\n",
    "    acc = accuracy_score(y_test, y_pred)\n",
    "    f1 = f1_score(y_test, y_pred)\n",
    "    cm = confusion_matrix(y_test, y_pred)\n",
    "\n",
    "    print(f\" Chunk {batch_num} — Accuracy: {acc:.4f}, F1: {f1:.4f}\")\n",
    "    print(cm, \"\\n\")\n",
    "\n",
    "    offset += CHUNK_SIZE\n",
    "    batch_num += 1"
   ]
  },
  {
   "cell_type": "code",
   "execution_count": 3,
   "metadata": {
    "colab": {
     "base_uri": "https://localhost:8080/"
    },
    "id": "AIcu6d8Fd8U2",
    "outputId": "9b93850e-8893-4bab-935e-4df703ff5f03"
   },
   "outputs": [
    {
     "name": "stdout",
     "output_type": "stream",
     "text": [
      "Final Evaluation\n",
      "Overall Accuracy: 0.8664\n",
      "Overall F1 Score: 0.9192\n",
      "Confusion Matrix:\n",
      "[[10697179 11358223]\n",
      " [ 2084305 76457283]]\n"
     ]
    }
   ],
   "source": [
    "from sklearn.metrics import accuracy_score, f1_score, confusion_matrix\n",
    "\n",
    "print(\"Final Evaluation\")\n",
    "overall_acc = accuracy_score(all_truths, all_preds)\n",
    "overall_f1 = f1_score(all_truths, all_preds)\n",
    "overall_cm = confusion_matrix(all_truths, all_preds)\n",
    "\n",
    "print(f\"Overall Accuracy: {overall_acc:.4f}\")\n",
    "print(f\"Overall F1 Score: {overall_f1:.4f}\")\n",
    "print(\"Confusion Matrix:\")\n",
    "print(overall_cm)"
   ]
  },
  {
   "cell_type": "markdown",
   "metadata": {
    "id": "RNmbJ5jJzojz"
   },
   "source": [
    "# Final Model Evaluation - Binary Sentiment Analysis\n",
    "\n",
    "## Overall Performance Metrics\n",
    "| Metric              | Score    | Interpretation                     |\n",
    "|---------------------|----------|-------------------------------------|\n",
    "| **Accuracy**        | 0.8664   | 86.64% of predictions correct       |\n",
    "| **F1 Score**        | 0.9192   | Excellent balance of precision/recall |\n",
    "\n",
    "---\n",
    "\n",
    "## Confusion Matrix (Counts)\n",
    "|                   | Predicted Negative (0) | Predicted Positive (1) |\n",
    "|-------------------|-------------------------|-------------------------|\n",
    "| **Actual Negative (0)** | 10,697,179            | 11,358,223             |\n",
    "| **Actual Positive (1)** | 2,084,305             | 76,457,283             |\n",
    "\n",
    "---\n",
    "\n",
    "## Detailed Class Metrics\n",
    "### Negative Class (0 - Ratings 1-3 Stars)\n",
    "| Metric     | Calculation                   | Value   |\n",
    "|------------|-------------------------------|---------|\n",
    "| Precision  | TN/(TN+FN) = 10.7M/12.8M      | 83.68%  |\n",
    "| Recall     | TN/(TN+FP) = 10.7M/22.1M      | 48.50%  |\n",
    "| F1 Score   | 2*(Prec*Recall)/(Prec+Recall) | 0.6141  |\n",
    "\n",
    "### Positive Class (1 - Ratings 4-5 Stars)\n",
    "| Metric     | Calculation                   | Value   |\n",
    "|------------|-------------------------------|---------|\n",
    "| Precision  | TP/(TP+FP) = 76.5M/87.8M      | 87.06%  |\n",
    "| Recall     | TP/(TP+FN) = 76.5M/78.5M      | 97.34%  |\n",
    "| F1 Score   | 2*(Prec*Recall)/(Prec+Recall) | 0.9192  |\n",
    "\n",
    "---\n",
    "\n",
    "## Observations\n",
    "1. **Class Imbalance**:  \n",
    "   - Positive class dominates (78.5M vs 22.1M negatives)  \n",
    "   - Model bias towards majority class as seen through recall  \n",
    "\n",
    "2. **Errors**:  \n",
    "   - High FP in negatives: 11.4M negative reviews misclassified as positive  \n",
    "   - Low FN: Only 2.1M positives missed (good at catching positive sentiment)  \n",
    "\n",
    "3. **Practical Implications**:  \n",
    "   - Model excellent at confirming positive experiences (97% recall)  \n",
    "   - Struggles to identify negative reviews (48.5% recall)  "
   ]
  }
 ],
 "metadata": {
  "colab": {
   "machine_shape": "hm",
   "provenance": []
  },
  "kernelspec": {
   "display_name": "Python 3 (ipykernel)",
   "language": "python",
   "name": "python3"
  },
  "language_info": {
   "codemirror_mode": {
    "name": "ipython",
    "version": 3
   },
   "file_extension": ".py",
   "mimetype": "text/x-python",
   "name": "python",
   "nbconvert_exporter": "python",
   "pygments_lexer": "ipython3",
   "version": "3.12.7"
  }
 },
 "nbformat": 4,
 "nbformat_minor": 4
}
