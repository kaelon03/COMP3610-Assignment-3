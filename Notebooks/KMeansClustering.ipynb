{
 "cells": [
  {
   "cell_type": "markdown",
   "id": "c6e265dd-d5c3-40e4-a0b2-239ef4d63f31",
   "metadata": {},
   "source": [
    "# KMeans Clustering"
   ]
  },
  {
   "cell_type": "markdown",
   "id": "e0a6f47d-ab50-4662-8b37-85cd8bd2c09a",
   "metadata": {},
   "source": [
    "### Imports"
   ]
  },
  {
   "cell_type": "code",
   "execution_count": 1,
   "id": "1f30f3d4",
   "metadata": {},
   "outputs": [],
   "source": [
    "import pandas as pd\n",
    "import duckdb\n",
    "from sklearn.preprocessing import LabelEncoder\n",
    "from sklearn.cluster import KMeans\n",
    "import numpy as np"
   ]
  },
  {
   "cell_type": "markdown",
   "id": "8ec37e23-d1aa-4ffd-b2c4-138c949fa042",
   "metadata": {},
   "source": [
    "## Clustering Data Preparation\n",
    "\n",
    "### Dataset Configuration\n",
    "- **Source**: Unified dataset containing joined review/metadata  \n",
    "- **Scope**: Products with valid ratings (1-5 stars), brand, category and product category\n",
    "- **Structure**: Aggregated at product level (`asin`)  \n",
    "\n",
    "---\n",
    "\n",
    "### Feature Engineering Query\n",
    "```sql\n",
    "SELECT\n",
    "    asin,                   -- Product ID\n",
    "    main_category,          -- Top-level category\n",
    "    brand,                  -- Manufacturer\n",
    "    AVG(rating) AS mean_rating,  -- Average product rating\n",
    "    COUNT(*) AS total_reviews   -- Review volume\n",
    "FROM read_parquet('{DATASET_PATH}')\n",
    "WHERE \n",
    "    rating BETWEEN 1 AND 5  -- Valid Rating\n",
    "    AND asin IS NOT NULL    -- Ensure product ID exists\n",
    "    AND main_category IS NOT NULL -- Ensure catefory Exists\n",
    "    AND brand IS NOT NULL -- Ensure Brand Exists\n",
    "GROUP BY asin, main_category, brand"
   ]
  },
  {
   "cell_type": "code",
   "execution_count": null,
   "id": "2f55fc68",
   "metadata": {},
   "outputs": [
    {
     "data": {
      "application/vnd.jupyter.widget-view+json": {
       "model_id": "fe97a6a0c9934d44b86585a16130f97d",
       "version_major": 2,
       "version_minor": 0
      },
      "text/plain": [
       "FloatProgress(value=0.0, layout=Layout(width='auto'), style=ProgressStyle(bar_color='black'))"
      ]
     },
     "metadata": {},
     "output_type": "display_data"
    }
   ],
   "source": [
    "DATASET_PATH = \"G:/My Drive/unified_dataset/**/*.parquet\"\n",
    "\n",
    "query = f\"\"\"\n",
    "    SELECT\n",
    "        asin,\n",
    "        main_category,\n",
    "        brand,\n",
    "        AVG(rating) AS mean_rating,\n",
    "        COUNT(*) AS total_reviews\n",
    "    FROM read_parquet('{DATASET_PATH}')\n",
    "    WHERE rating BETWEEN 1 AND 5\n",
    "      AND asin IS NOT NULL\n",
    "      AND main_category IS NOT NULL\n",
    "      AND brand IS NOT NULL\n",
    "    GROUP BY asin, main_category, brand\n",
    "\"\"\"\n",
    "\n",
    "con = duckdb.connect()\n",
    "df = con.execute(query).fetch_df()"
   ]
  },
  {
   "cell_type": "markdown",
   "id": "fb601485-c071-43b7-8d4a-71c613b968de",
   "metadata": {},
   "source": [
    "## 🧮 K-means Clustering Implementation\n",
    "\n",
    "### Feature Preprocessing\n",
    "**Categorical Encoding**:\n",
    "```python\n",
    "# Convert brand names to numerical IDs\n",
    "df['brand_id'] = LabelEncoder().fit_transform(df['brand'])\n",
    "\n",
    "# Convert categories to numerical IDs\n",
    "df['category_id'] = LabelEncoder().fit_transform(df['main_category'])"
   ]
  },
  {
   "cell_type": "code",
   "execution_count": 4,
   "id": "09248537",
   "metadata": {},
   "outputs": [
    {
     "name": "stdout",
     "output_type": "stream",
     "text": [
      "         cluster_size  mean_rating  total_reviews      brand_id  category_id\n",
      "cluster                                                                     \n",
      "0             6813422     4.164541      10.256586  2.560370e+06    14.231206\n",
      "1            10068099     4.141365      10.830879  4.734996e+05    13.541924\n",
      "2            10250818     4.090625      10.565454  4.429793e+06    15.515071\n",
      "3             9691205     4.129450      10.246752  1.503145e+06    14.733325\n",
      "4             9494661     4.137608      11.019385  3.466730e+06    14.334762\n"
     ]
    }
   ],
   "source": [
    "df['brand_id'] = LabelEncoder().fit_transform(df['brand'])\n",
    "df['category_id'] = LabelEncoder().fit_transform(df['main_category'])\n",
    "\n",
    "features = df[['mean_rating', 'total_reviews', 'brand_id', 'category_id']]\n",
    "\n",
    "kmeans = KMeans(n_clusters=5, random_state=42)\n",
    "df['cluster'] = kmeans.fit_predict(features)\n",
    "\n",
    "cluster_summary = df.groupby('cluster').agg({\n",
    "    'asin': 'count',\n",
    "    'mean_rating': 'mean',\n",
    "    'total_reviews': 'mean',\n",
    "    'brand_id': 'mean',\n",
    "    'category_id': 'mean'\n",
    "}).rename(columns={'asin': 'cluster_size'})\n",
    "\n",
    "print(cluster_summary)"
   ]
  },
  {
   "cell_type": "markdown",
   "id": "61779bce-0967-4bb9-9334-64fdc894c75f",
   "metadata": {},
   "source": [
    "### Observations\n",
    "1. Relatively **Balanced Cluser sizes** (6-10M products)\n",
    "2. **Rating Stability**\n",
    "   * All clusters have a relatively high rating (4.1- 4.2)\n",
    "   * Difference in rating of at most 0.08\n",
    "4. **Brand and Category**\n",
    "   * Cluster 0, 3, 4 all share a similar average category but differ based on brand average. This may be because they cluster items in similar categories but split it into differnt brand prestiges."
   ]
  }
 ],
 "metadata": {
  "kernelspec": {
   "display_name": "Python 3 (ipykernel)",
   "language": "python",
   "name": "python3"
  },
  "language_info": {
   "codemirror_mode": {
    "name": "ipython",
    "version": 3
   },
   "file_extension": ".py",
   "mimetype": "text/x-python",
   "name": "python",
   "nbconvert_exporter": "python",
   "pygments_lexer": "ipython3",
   "version": "3.12.7"
  }
 },
 "nbformat": 4,
 "nbformat_minor": 5
}
